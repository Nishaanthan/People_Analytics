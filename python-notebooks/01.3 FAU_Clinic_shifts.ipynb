{
  "cells": [
    {
      "cell_type": "code",
      "source": [
        "#install pulp module\n",
        "!pip install pulp"
      ],
      "metadata": {
        "colab": {
          "base_uri": "https://localhost:8080/"
        },
        "id": "fYNPGR5pvRBW",
        "outputId": "f5203e52-0beb-4437-8694-fb78959d9f3f"
      },
      "id": "fYNPGR5pvRBW",
      "execution_count": 1,
      "outputs": [
        {
          "output_type": "stream",
          "name": "stdout",
          "text": [
            "Collecting pulp\n",
            "  Downloading PuLP-2.9.0-py3-none-any.whl.metadata (5.4 kB)\n",
            "Downloading PuLP-2.9.0-py3-none-any.whl (17.7 MB)\n",
            "\u001b[2K   \u001b[90m━━━━━━━━━━━━━━━━━━━━━━━━━━━━━━━━━━━━━━━━\u001b[0m \u001b[32m17.7/17.7 MB\u001b[0m \u001b[31m28.7 MB/s\u001b[0m eta \u001b[36m0:00:00\u001b[0m\n",
            "\u001b[?25hInstalling collected packages: pulp\n",
            "Successfully installed pulp-2.9.0\n"
          ]
        }
      ]
    },
    {
      "cell_type": "code",
      "execution_count": 2,
      "id": "b1e74052",
      "metadata": {
        "id": "b1e74052"
      },
      "outputs": [],
      "source": [
        "# import the neccessary libraries\n",
        "import pandas as pd\n",
        "from pulp import  *"
      ]
    },
    {
      "cell_type": "code",
      "execution_count": 3,
      "id": "ee84ca5d",
      "metadata": {
        "id": "ee84ca5d"
      },
      "outputs": [],
      "source": [
        "# import the dataset into a dataframe\n",
        "df = pd.read_csv(\"https://raw.githubusercontent.com/Nishaanthan/People_Analytics/refs/heads/main/datasets/fau_medical_staff.csv\", index_col=0)\n",
        "\n",
        "df = df.fillna(0).map(lambda x: 1 if x == \"X\" else x)"
      ]
    },
    {
      "cell_type": "code",
      "source": [
        "df.head()"
      ],
      "metadata": {
        "colab": {
          "base_uri": "https://localhost:8080/",
          "height": 257
        },
        "id": "go3IHIKg2F95",
        "outputId": "0257bc22-0d29-4d28-a912-24064c783a7d"
      },
      "id": "go3IHIKg2F95",
      "execution_count": 4,
      "outputs": [
        {
          "output_type": "execute_result",
          "data": {
            "text/plain": [
              "              Shift 1 Shift 2 Shift 3  Avg_Patient_Number\n",
              "Time Windows                                             \n",
              "06:00 - 07:00       1       0       0                 4.0\n",
              "07:00 – 08:00       1       0       0                 3.0\n",
              "08:00 – 09:00       1       0       0                 6.0\n",
              "09:00 – 10:00       1       0       0                 8.0\n",
              "10:00 – 11:00       1       0       0                 7.0"
            ],
            "text/html": [
              "\n",
              "  <div id=\"df-0c3bd1a0-09e5-4a8e-916b-2a0f65fa96c8\" class=\"colab-df-container\">\n",
              "    <div>\n",
              "<style scoped>\n",
              "    .dataframe tbody tr th:only-of-type {\n",
              "        vertical-align: middle;\n",
              "    }\n",
              "\n",
              "    .dataframe tbody tr th {\n",
              "        vertical-align: top;\n",
              "    }\n",
              "\n",
              "    .dataframe thead th {\n",
              "        text-align: right;\n",
              "    }\n",
              "</style>\n",
              "<table border=\"1\" class=\"dataframe\">\n",
              "  <thead>\n",
              "    <tr style=\"text-align: right;\">\n",
              "      <th></th>\n",
              "      <th>Shift 1</th>\n",
              "      <th>Shift 2</th>\n",
              "      <th>Shift 3</th>\n",
              "      <th>Avg_Patient_Number</th>\n",
              "    </tr>\n",
              "    <tr>\n",
              "      <th>Time Windows</th>\n",
              "      <th></th>\n",
              "      <th></th>\n",
              "      <th></th>\n",
              "      <th></th>\n",
              "    </tr>\n",
              "  </thead>\n",
              "  <tbody>\n",
              "    <tr>\n",
              "      <th>06:00 - 07:00</th>\n",
              "      <td>1</td>\n",
              "      <td>0</td>\n",
              "      <td>0</td>\n",
              "      <td>4.0</td>\n",
              "    </tr>\n",
              "    <tr>\n",
              "      <th>07:00 – 08:00</th>\n",
              "      <td>1</td>\n",
              "      <td>0</td>\n",
              "      <td>0</td>\n",
              "      <td>3.0</td>\n",
              "    </tr>\n",
              "    <tr>\n",
              "      <th>08:00 – 09:00</th>\n",
              "      <td>1</td>\n",
              "      <td>0</td>\n",
              "      <td>0</td>\n",
              "      <td>6.0</td>\n",
              "    </tr>\n",
              "    <tr>\n",
              "      <th>09:00 – 10:00</th>\n",
              "      <td>1</td>\n",
              "      <td>0</td>\n",
              "      <td>0</td>\n",
              "      <td>8.0</td>\n",
              "    </tr>\n",
              "    <tr>\n",
              "      <th>10:00 – 11:00</th>\n",
              "      <td>1</td>\n",
              "      <td>0</td>\n",
              "      <td>0</td>\n",
              "      <td>7.0</td>\n",
              "    </tr>\n",
              "  </tbody>\n",
              "</table>\n",
              "</div>\n",
              "    <div class=\"colab-df-buttons\">\n",
              "\n",
              "  <div class=\"colab-df-container\">\n",
              "    <button class=\"colab-df-convert\" onclick=\"convertToInteractive('df-0c3bd1a0-09e5-4a8e-916b-2a0f65fa96c8')\"\n",
              "            title=\"Convert this dataframe to an interactive table.\"\n",
              "            style=\"display:none;\">\n",
              "\n",
              "  <svg xmlns=\"http://www.w3.org/2000/svg\" height=\"24px\" viewBox=\"0 -960 960 960\">\n",
              "    <path d=\"M120-120v-720h720v720H120Zm60-500h600v-160H180v160Zm220 220h160v-160H400v160Zm0 220h160v-160H400v160ZM180-400h160v-160H180v160Zm440 0h160v-160H620v160ZM180-180h160v-160H180v160Zm440 0h160v-160H620v160Z\"/>\n",
              "  </svg>\n",
              "    </button>\n",
              "\n",
              "  <style>\n",
              "    .colab-df-container {\n",
              "      display:flex;\n",
              "      gap: 12px;\n",
              "    }\n",
              "\n",
              "    .colab-df-convert {\n",
              "      background-color: #E8F0FE;\n",
              "      border: none;\n",
              "      border-radius: 50%;\n",
              "      cursor: pointer;\n",
              "      display: none;\n",
              "      fill: #1967D2;\n",
              "      height: 32px;\n",
              "      padding: 0 0 0 0;\n",
              "      width: 32px;\n",
              "    }\n",
              "\n",
              "    .colab-df-convert:hover {\n",
              "      background-color: #E2EBFA;\n",
              "      box-shadow: 0px 1px 2px rgba(60, 64, 67, 0.3), 0px 1px 3px 1px rgba(60, 64, 67, 0.15);\n",
              "      fill: #174EA6;\n",
              "    }\n",
              "\n",
              "    .colab-df-buttons div {\n",
              "      margin-bottom: 4px;\n",
              "    }\n",
              "\n",
              "    [theme=dark] .colab-df-convert {\n",
              "      background-color: #3B4455;\n",
              "      fill: #D2E3FC;\n",
              "    }\n",
              "\n",
              "    [theme=dark] .colab-df-convert:hover {\n",
              "      background-color: #434B5C;\n",
              "      box-shadow: 0px 1px 3px 1px rgba(0, 0, 0, 0.15);\n",
              "      filter: drop-shadow(0px 1px 2px rgba(0, 0, 0, 0.3));\n",
              "      fill: #FFFFFF;\n",
              "    }\n",
              "  </style>\n",
              "\n",
              "    <script>\n",
              "      const buttonEl =\n",
              "        document.querySelector('#df-0c3bd1a0-09e5-4a8e-916b-2a0f65fa96c8 button.colab-df-convert');\n",
              "      buttonEl.style.display =\n",
              "        google.colab.kernel.accessAllowed ? 'block' : 'none';\n",
              "\n",
              "      async function convertToInteractive(key) {\n",
              "        const element = document.querySelector('#df-0c3bd1a0-09e5-4a8e-916b-2a0f65fa96c8');\n",
              "        const dataTable =\n",
              "          await google.colab.kernel.invokeFunction('convertToInteractive',\n",
              "                                                    [key], {});\n",
              "        if (!dataTable) return;\n",
              "\n",
              "        const docLinkHtml = 'Like what you see? Visit the ' +\n",
              "          '<a target=\"_blank\" href=https://colab.research.google.com/notebooks/data_table.ipynb>data table notebook</a>'\n",
              "          + ' to learn more about interactive tables.';\n",
              "        element.innerHTML = '';\n",
              "        dataTable['output_type'] = 'display_data';\n",
              "        await google.colab.output.renderOutput(dataTable, element);\n",
              "        const docLink = document.createElement('div');\n",
              "        docLink.innerHTML = docLinkHtml;\n",
              "        element.appendChild(docLink);\n",
              "      }\n",
              "    </script>\n",
              "  </div>\n",
              "\n",
              "\n",
              "<div id=\"df-3ac1e78e-0d7b-4bc8-b5f6-b8ddac235ccf\">\n",
              "  <button class=\"colab-df-quickchart\" onclick=\"quickchart('df-3ac1e78e-0d7b-4bc8-b5f6-b8ddac235ccf')\"\n",
              "            title=\"Suggest charts\"\n",
              "            style=\"display:none;\">\n",
              "\n",
              "<svg xmlns=\"http://www.w3.org/2000/svg\" height=\"24px\"viewBox=\"0 0 24 24\"\n",
              "     width=\"24px\">\n",
              "    <g>\n",
              "        <path d=\"M19 3H5c-1.1 0-2 .9-2 2v14c0 1.1.9 2 2 2h14c1.1 0 2-.9 2-2V5c0-1.1-.9-2-2-2zM9 17H7v-7h2v7zm4 0h-2V7h2v10zm4 0h-2v-4h2v4z\"/>\n",
              "    </g>\n",
              "</svg>\n",
              "  </button>\n",
              "\n",
              "<style>\n",
              "  .colab-df-quickchart {\n",
              "      --bg-color: #E8F0FE;\n",
              "      --fill-color: #1967D2;\n",
              "      --hover-bg-color: #E2EBFA;\n",
              "      --hover-fill-color: #174EA6;\n",
              "      --disabled-fill-color: #AAA;\n",
              "      --disabled-bg-color: #DDD;\n",
              "  }\n",
              "\n",
              "  [theme=dark] .colab-df-quickchart {\n",
              "      --bg-color: #3B4455;\n",
              "      --fill-color: #D2E3FC;\n",
              "      --hover-bg-color: #434B5C;\n",
              "      --hover-fill-color: #FFFFFF;\n",
              "      --disabled-bg-color: #3B4455;\n",
              "      --disabled-fill-color: #666;\n",
              "  }\n",
              "\n",
              "  .colab-df-quickchart {\n",
              "    background-color: var(--bg-color);\n",
              "    border: none;\n",
              "    border-radius: 50%;\n",
              "    cursor: pointer;\n",
              "    display: none;\n",
              "    fill: var(--fill-color);\n",
              "    height: 32px;\n",
              "    padding: 0;\n",
              "    width: 32px;\n",
              "  }\n",
              "\n",
              "  .colab-df-quickchart:hover {\n",
              "    background-color: var(--hover-bg-color);\n",
              "    box-shadow: 0 1px 2px rgba(60, 64, 67, 0.3), 0 1px 3px 1px rgba(60, 64, 67, 0.15);\n",
              "    fill: var(--button-hover-fill-color);\n",
              "  }\n",
              "\n",
              "  .colab-df-quickchart-complete:disabled,\n",
              "  .colab-df-quickchart-complete:disabled:hover {\n",
              "    background-color: var(--disabled-bg-color);\n",
              "    fill: var(--disabled-fill-color);\n",
              "    box-shadow: none;\n",
              "  }\n",
              "\n",
              "  .colab-df-spinner {\n",
              "    border: 2px solid var(--fill-color);\n",
              "    border-color: transparent;\n",
              "    border-bottom-color: var(--fill-color);\n",
              "    animation:\n",
              "      spin 1s steps(1) infinite;\n",
              "  }\n",
              "\n",
              "  @keyframes spin {\n",
              "    0% {\n",
              "      border-color: transparent;\n",
              "      border-bottom-color: var(--fill-color);\n",
              "      border-left-color: var(--fill-color);\n",
              "    }\n",
              "    20% {\n",
              "      border-color: transparent;\n",
              "      border-left-color: var(--fill-color);\n",
              "      border-top-color: var(--fill-color);\n",
              "    }\n",
              "    30% {\n",
              "      border-color: transparent;\n",
              "      border-left-color: var(--fill-color);\n",
              "      border-top-color: var(--fill-color);\n",
              "      border-right-color: var(--fill-color);\n",
              "    }\n",
              "    40% {\n",
              "      border-color: transparent;\n",
              "      border-right-color: var(--fill-color);\n",
              "      border-top-color: var(--fill-color);\n",
              "    }\n",
              "    60% {\n",
              "      border-color: transparent;\n",
              "      border-right-color: var(--fill-color);\n",
              "    }\n",
              "    80% {\n",
              "      border-color: transparent;\n",
              "      border-right-color: var(--fill-color);\n",
              "      border-bottom-color: var(--fill-color);\n",
              "    }\n",
              "    90% {\n",
              "      border-color: transparent;\n",
              "      border-bottom-color: var(--fill-color);\n",
              "    }\n",
              "  }\n",
              "</style>\n",
              "\n",
              "  <script>\n",
              "    async function quickchart(key) {\n",
              "      const quickchartButtonEl =\n",
              "        document.querySelector('#' + key + ' button');\n",
              "      quickchartButtonEl.disabled = true;  // To prevent multiple clicks.\n",
              "      quickchartButtonEl.classList.add('colab-df-spinner');\n",
              "      try {\n",
              "        const charts = await google.colab.kernel.invokeFunction(\n",
              "            'suggestCharts', [key], {});\n",
              "      } catch (error) {\n",
              "        console.error('Error during call to suggestCharts:', error);\n",
              "      }\n",
              "      quickchartButtonEl.classList.remove('colab-df-spinner');\n",
              "      quickchartButtonEl.classList.add('colab-df-quickchart-complete');\n",
              "    }\n",
              "    (() => {\n",
              "      let quickchartButtonEl =\n",
              "        document.querySelector('#df-3ac1e78e-0d7b-4bc8-b5f6-b8ddac235ccf button');\n",
              "      quickchartButtonEl.style.display =\n",
              "        google.colab.kernel.accessAllowed ? 'block' : 'none';\n",
              "    })();\n",
              "  </script>\n",
              "</div>\n",
              "\n",
              "    </div>\n",
              "  </div>\n"
            ],
            "application/vnd.google.colaboratory.intrinsic+json": {
              "type": "dataframe",
              "variable_name": "df",
              "summary": "{\n  \"name\": \"df\",\n  \"rows\": 25,\n  \"fields\": [\n    {\n      \"column\": \"Time Windows\",\n      \"properties\": {\n        \"dtype\": \"string\",\n        \"num_unique_values\": 25,\n        \"samples\": [\n          \"14:00 \\u2013 15:00\",\n          \"22:00 \\u2013 23:00\",\n          \"06:00 - 07:00\"\n        ],\n        \"semantic_type\": \"\",\n        \"description\": \"\"\n      }\n    },\n    {\n      \"column\": \"Shift 1\",\n      \"properties\": {\n        \"dtype\": \"category\",\n        \"num_unique_values\": 3,\n        \"samples\": [\n          1,\n          0,\n          \"45\"\n        ],\n        \"semantic_type\": \"\",\n        \"description\": \"\"\n      }\n    },\n    {\n      \"column\": \"Shift 2\",\n      \"properties\": {\n        \"dtype\": \"category\",\n        \"num_unique_values\": 3,\n        \"samples\": [\n          0,\n          1,\n          \"45\"\n        ],\n        \"semantic_type\": \"\",\n        \"description\": \"\"\n      }\n    },\n    {\n      \"column\": \"Shift 3\",\n      \"properties\": {\n        \"dtype\": \"category\",\n        \"num_unique_values\": 3,\n        \"samples\": [\n          0,\n          1,\n          \"60\"\n        ],\n        \"semantic_type\": \"\",\n        \"description\": \"\"\n      }\n    },\n    {\n      \"column\": \"Avg_Patient_Number\",\n      \"properties\": {\n        \"dtype\": \"number\",\n        \"std\": 2.886751345948129,\n        \"min\": 0.0,\n        \"max\": 11.0,\n        \"num_unique_values\": 11,\n        \"samples\": [\n          9.0,\n          4.0,\n          1.0\n        ],\n        \"semantic_type\": \"\",\n        \"description\": \"\"\n      }\n    }\n  ]\n}"
            }
          },
          "metadata": {},
          "execution_count": 4
        }
      ]
    },
    {
      "cell_type": "code",
      "execution_count": 5,
      "id": "ac84d24a",
      "metadata": {
        "id": "ac84d24a"
      },
      "outputs": [],
      "source": [
        "# create a matrix to show which shift each time window is associated with\n",
        "shifts = df.drop(index=[\"Wage rate per 8h shift (EUR)\"], columns=\"Avg_Patient_Number\").values"
      ]
    },
    {
      "cell_type": "code",
      "execution_count": 6,
      "id": "35f670bc",
      "metadata": {
        "id": "35f670bc"
      },
      "outputs": [],
      "source": [
        "# read the rest of the data from the the csv file\n",
        "\n",
        "# number of shifts\n",
        "shift_num = shifts.shape[1]\n",
        "\n",
        "# number of time windows\n",
        "time_windows = shifts.shape[0]\n",
        "\n",
        "# number of patients measured per time window\n",
        "avg_patient_num = df[\"Avg_Patient_Number\"].values\n",
        "\n",
        "# wage rate per shift\n",
        "wages_per_shift = df.loc[\"Wage rate per 8h shift (EUR)\", :].values.astype(int)\n",
        "\n",
        "# service level to handle 4 patients\n",
        "service_level = 4"
      ]
    },
    {
      "cell_type": "code",
      "execution_count": 7,
      "id": "ba0268f1",
      "metadata": {
        "id": "ba0268f1",
        "outputId": "8cb08239-13f0-442a-e7b4-4a34995f6518",
        "colab": {
          "base_uri": "https://localhost:8080/"
        }
      },
      "outputs": [
        {
          "output_type": "stream",
          "name": "stdout",
          "text": [
            "{0: num_workers_0, 1: num_workers_1, 2: num_workers_2}\n"
          ]
        }
      ],
      "source": [
        "# Determine the decision variable\n",
        "# final goal is to find the optimal number of workers for each time slot\n",
        "num_workers = LpVariable.dicts(\"num_workers\", [s for s in range(shift_num)], lowBound=0, cat=\"Integer\")\n",
        "print(num_workers)"
      ]
    },
    {
      "cell_type": "code",
      "execution_count": 8,
      "id": "0b632a01",
      "metadata": {
        "id": "0b632a01"
      },
      "outputs": [],
      "source": [
        "# Create problem\n",
        "# Minimize number of workers/costs paid for employees each day\n",
        "prob = LpProblem(\"Optimal_Medical_Assistants_FAU\", LpMinimize)"
      ]
    },
    {
      "cell_type": "code",
      "execution_count": 9,
      "id": "53895d64",
      "metadata": {
        "id": "53895d64"
      },
      "outputs": [],
      "source": [
        "# add the contsraints to the LP problem\n",
        "# first add to the problem the wage for each shift\n",
        "prob += lpSum([num_workers[s] * wages_per_shift[s] for s in range(shift_num)]), \"Minimize_Wages\""
      ]
    },
    {
      "cell_type": "code",
      "execution_count": 10,
      "id": "fc20846e",
      "metadata": {
        "id": "fc20846e"
      },
      "outputs": [],
      "source": [
        "# the average number of customers in each time slot and the service level are also added to the LP problem\n",
        "for t in range(time_windows):\n",
        "    for s in range(shift_num):\n",
        "        if shifts[t, s] == 1:\n",
        "            prob += num_workers[s] * service_level >= avg_patient_num[t], f\"Demand_Constraint_Shift_{s + 1}_Time_Window_{t + 1}\"\n"
      ]
    },
    {
      "cell_type": "code",
      "execution_count": 11,
      "id": "acc77ddd",
      "metadata": {
        "id": "acc77ddd",
        "outputId": "70135aa0-c7dd-403c-c3ed-aaf546e3aa10",
        "colab": {
          "base_uri": "https://localhost:8080/"
        }
      },
      "outputs": [
        {
          "output_type": "stream",
          "name": "stdout",
          "text": [
            "Status: Optimal\n"
          ]
        }
      ],
      "source": [
        "# solve the problem\n",
        "\n",
        "prob.solve()\n",
        "print(\"Status:\", LpStatus[prob.status])"
      ]
    },
    {
      "cell_type": "code",
      "execution_count": 12,
      "id": "fce89c6a",
      "metadata": {
        "id": "fce89c6a",
        "outputId": "8107216a-dc1a-4333-f2a8-e89d0eda020f",
        "colab": {
          "base_uri": "https://localhost:8080/"
        }
      },
      "outputs": [
        {
          "output_type": "stream",
          "name": "stdout",
          "text": [
            "3 medical assistants are needed for Shift 1\n",
            "2 medical assistants are needed for Shift 2\n",
            "1 medical assistants are needed for Shift 3\n"
          ]
        }
      ],
      "source": [
        "for s in range(shift_num):\n",
        "    print(f\"{int(num_workers[s].varValue)} medical assistants are needed for Shift {s + 1}\")"
      ]
    }
  ],
  "metadata": {
    "kernelspec": {
      "display_name": "Python 3 (ipykernel)",
      "language": "python",
      "name": "python3"
    },
    "language_info": {
      "codemirror_mode": {
        "name": "ipython",
        "version": 3
      },
      "file_extension": ".py",
      "mimetype": "text/x-python",
      "name": "python",
      "nbconvert_exporter": "python",
      "pygments_lexer": "ipython3",
      "version": "3.9.12"
    },
    "colab": {
      "provenance": []
    }
  },
  "nbformat": 4,
  "nbformat_minor": 5
}