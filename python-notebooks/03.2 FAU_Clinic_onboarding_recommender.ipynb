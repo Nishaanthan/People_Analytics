{
  "cells": [
    {
      "cell_type": "code",
      "source": [
        "#importing necessary libraries.\n",
        "import pandas as pd\n",
        "import numpy as np\n",
        "\n",
        "# import TfidfVector from sklearn.\n",
        "from sklearn.feature_extraction.text import TfidfVectorizer\n",
        "from sklearn.metrics.pairwise import linear_kernel"
      ],
      "metadata": {
        "id": "R6SUPgtejVnb"
      },
      "execution_count": 1,
      "outputs": []
    },
    {
      "cell_type": "code",
      "execution_count": 2,
      "metadata": {
        "colab": {
          "base_uri": "https://localhost:8080/"
        },
        "id": "TOWZA8VPVyC_",
        "outputId": "c0886857-d02d-4719-8d15-875f8314308c"
      },
      "outputs": [
        {
          "output_type": "execute_result",
          "data": {
            "text/plain": [
              "Index(['id', 'teams', 'previous_experience', 'hobbies', 'sports'], dtype='object')"
            ]
          },
          "metadata": {},
          "execution_count": 2
        }
      ],
      "source": [
        "employees = pd.read_csv(r\"https://raw.githubusercontent.com/Nishaanthan/People_Analytics/refs/heads/main/datasets/fau_clinic_recommender_system.csv\")\n",
        "employees.columns"
      ]
    },
    {
      "cell_type": "code",
      "execution_count": 3,
      "metadata": {
        "id": "FvOon2fbVyC_"
      },
      "outputs": [],
      "source": [
        "def create_soup(x):\n",
        "    return ''.join(x['teams']) + ''.join(x['previous_experience']) + '' + ''.join(x['hobbies']) + '' + ''.join(x['sports'])\n",
        "employees['soup'] = employees.apply(create_soup, axis=1)"
      ]
    },
    {
      "cell_type": "code",
      "source": [
        "employees['soup']"
      ],
      "metadata": {
        "id": "G0ApvW_8YFN6",
        "outputId": "2df4f66f-0abf-455c-bd33-14f96305644b",
        "colab": {
          "base_uri": "https://localhost:8080/",
          "height": 1000
        }
      },
      "execution_count": 4,
      "outputs": [
        {
          "output_type": "execute_result",
          "data": {
            "text/plain": [
              "0          team_02Expert.reading, gardening, yogatennis\n",
              "1         team_01Novice.arts and crafts, yogavolleyball\n",
              "2     team_03Advanced beginner.running, hiking, phot...\n",
              "3     team_04Competent.arts and crafts, photographyt...\n",
              "4     team_05Proficient.reading, journalising, music...\n",
              "5              team_05Expert.reading, music, yogatennis\n",
              "6     team_03Competent.fitness, running, gardeningsw...\n",
              "7     team_02Proficient.volunteering, cooking, bakin...\n",
              "8     team_02Novice.hiking, cycling, outdoor activit...\n",
              "9     team_01Advanced beginner.arts and crafts, phot...\n",
              "10    team_01Novice.fitness, running, gardeningvolle...\n",
              "11    team_02Advanced beginner.reading, traveling, b...\n",
              "12    team_05Competent.reading, blogging, journalisi...\n",
              "13    team_04Proficient.fitness, running, cookingswi...\n",
              "14           team_01Expert.reading, music, yogaswimming\n",
              "15    team_04Competent.fitness, running, cookingbask...\n",
              "16          team_03Expert.traveling, photographycricket\n",
              "17    team_05Proficient.traveling, journalising, mus...\n",
              "18    team_01Novice.hiking, cycling, outdoor activit...\n",
              "19       team_02Expert.traveling, photographyvolleyball\n",
              "20     team_03Novice.arts and crafts, photographytennis\n",
              "21    team_04Advanced beginner.fitness, running, gar...\n",
              "22    team_01Competent.reading, traveling, bloggingc...\n",
              "23    team_04Competent.arts and crafts, reading, yog...\n",
              "24    team_03Competent.running, yoga, music, journal...\n",
              "25    team_05Novice.volunteering, cooking, photograp...\n",
              "26    team_01Advanced beginner.hiking, photography, ...\n",
              "27    team_04Competent.reading, blogging, journalisi...\n",
              "28      team_03Novice.fitness, running, gardeningtennis\n",
              "29    team_03Competent.reading, traveling, bloggingb...\n",
              "30          team_02Competent.reading, music, yogatennis\n",
              "31        team_05Competent.traveling, photographytennis\n",
              "32    team_03Advanced beginner.fitness, yoga, cookin...\n",
              "33    team_03Competent.running, yoga, music, bloggin...\n",
              "34    team_05Novice.volunteering, cooking, bakingtennis\n",
              "35    team_01Advanced beginner.hiking, photography, ...\n",
              "36    team_04Competent.reading, blogging, journalisi...\n",
              "37    team_03Novice.fitness, running, gardening, mus...\n",
              "38    team_03Competent.reading, traveling, bloggingt...\n",
              "39      team_02Competent.reading, music, yogavolleyball\n",
              "40      team_05Competent.traveling, photographyfootball\n",
              "41    team_03Advanced beginner.fitness, running, coo...\n",
              "42         team_02Expert.reading, gardening, yogatennis\n",
              "43        team_01Novice.arts and crafts, yogavolleyball\n",
              "44    team_03Advanced beginner.running, hiking, phot...\n",
              "45    team_04Competent.arts and crafts, photographyt...\n",
              "46    team_05Proficient.reading, journalising, music...\n",
              "47             team_05Expert.reading, music, yogatennis\n",
              "48    team_03Competent.fitness, running, gardeningsw...\n",
              "49    team_03Advanced beginner.fitness, music, cooki...\n",
              "Name: soup, dtype: object"
            ],
            "text/html": [
              "<div>\n",
              "<style scoped>\n",
              "    .dataframe tbody tr th:only-of-type {\n",
              "        vertical-align: middle;\n",
              "    }\n",
              "\n",
              "    .dataframe tbody tr th {\n",
              "        vertical-align: top;\n",
              "    }\n",
              "\n",
              "    .dataframe thead th {\n",
              "        text-align: right;\n",
              "    }\n",
              "</style>\n",
              "<table border=\"1\" class=\"dataframe\">\n",
              "  <thead>\n",
              "    <tr style=\"text-align: right;\">\n",
              "      <th></th>\n",
              "      <th>soup</th>\n",
              "    </tr>\n",
              "  </thead>\n",
              "  <tbody>\n",
              "    <tr>\n",
              "      <th>0</th>\n",
              "      <td>team_02Expert.reading, gardening, yogatennis</td>\n",
              "    </tr>\n",
              "    <tr>\n",
              "      <th>1</th>\n",
              "      <td>team_01Novice.arts and crafts, yogavolleyball</td>\n",
              "    </tr>\n",
              "    <tr>\n",
              "      <th>2</th>\n",
              "      <td>team_03Advanced beginner.running, hiking, phot...</td>\n",
              "    </tr>\n",
              "    <tr>\n",
              "      <th>3</th>\n",
              "      <td>team_04Competent.arts and crafts, photographyt...</td>\n",
              "    </tr>\n",
              "    <tr>\n",
              "      <th>4</th>\n",
              "      <td>team_05Proficient.reading, journalising, music...</td>\n",
              "    </tr>\n",
              "    <tr>\n",
              "      <th>5</th>\n",
              "      <td>team_05Expert.reading, music, yogatennis</td>\n",
              "    </tr>\n",
              "    <tr>\n",
              "      <th>6</th>\n",
              "      <td>team_03Competent.fitness, running, gardeningsw...</td>\n",
              "    </tr>\n",
              "    <tr>\n",
              "      <th>7</th>\n",
              "      <td>team_02Proficient.volunteering, cooking, bakin...</td>\n",
              "    </tr>\n",
              "    <tr>\n",
              "      <th>8</th>\n",
              "      <td>team_02Novice.hiking, cycling, outdoor activit...</td>\n",
              "    </tr>\n",
              "    <tr>\n",
              "      <th>9</th>\n",
              "      <td>team_01Advanced beginner.arts and crafts, phot...</td>\n",
              "    </tr>\n",
              "    <tr>\n",
              "      <th>10</th>\n",
              "      <td>team_01Novice.fitness, running, gardeningvolle...</td>\n",
              "    </tr>\n",
              "    <tr>\n",
              "      <th>11</th>\n",
              "      <td>team_02Advanced beginner.reading, traveling, b...</td>\n",
              "    </tr>\n",
              "    <tr>\n",
              "      <th>12</th>\n",
              "      <td>team_05Competent.reading, blogging, journalisi...</td>\n",
              "    </tr>\n",
              "    <tr>\n",
              "      <th>13</th>\n",
              "      <td>team_04Proficient.fitness, running, cookingswi...</td>\n",
              "    </tr>\n",
              "    <tr>\n",
              "      <th>14</th>\n",
              "      <td>team_01Expert.reading, music, yogaswimming</td>\n",
              "    </tr>\n",
              "    <tr>\n",
              "      <th>15</th>\n",
              "      <td>team_04Competent.fitness, running, cookingbask...</td>\n",
              "    </tr>\n",
              "    <tr>\n",
              "      <th>16</th>\n",
              "      <td>team_03Expert.traveling, photographycricket</td>\n",
              "    </tr>\n",
              "    <tr>\n",
              "      <th>17</th>\n",
              "      <td>team_05Proficient.traveling, journalising, mus...</td>\n",
              "    </tr>\n",
              "    <tr>\n",
              "      <th>18</th>\n",
              "      <td>team_01Novice.hiking, cycling, outdoor activit...</td>\n",
              "    </tr>\n",
              "    <tr>\n",
              "      <th>19</th>\n",
              "      <td>team_02Expert.traveling, photographyvolleyball</td>\n",
              "    </tr>\n",
              "    <tr>\n",
              "      <th>20</th>\n",
              "      <td>team_03Novice.arts and crafts, photographytennis</td>\n",
              "    </tr>\n",
              "    <tr>\n",
              "      <th>21</th>\n",
              "      <td>team_04Advanced beginner.fitness, running, gar...</td>\n",
              "    </tr>\n",
              "    <tr>\n",
              "      <th>22</th>\n",
              "      <td>team_01Competent.reading, traveling, bloggingc...</td>\n",
              "    </tr>\n",
              "    <tr>\n",
              "      <th>23</th>\n",
              "      <td>team_04Competent.arts and crafts, reading, yog...</td>\n",
              "    </tr>\n",
              "    <tr>\n",
              "      <th>24</th>\n",
              "      <td>team_03Competent.running, yoga, music, journal...</td>\n",
              "    </tr>\n",
              "    <tr>\n",
              "      <th>25</th>\n",
              "      <td>team_05Novice.volunteering, cooking, photograp...</td>\n",
              "    </tr>\n",
              "    <tr>\n",
              "      <th>26</th>\n",
              "      <td>team_01Advanced beginner.hiking, photography, ...</td>\n",
              "    </tr>\n",
              "    <tr>\n",
              "      <th>27</th>\n",
              "      <td>team_04Competent.reading, blogging, journalisi...</td>\n",
              "    </tr>\n",
              "    <tr>\n",
              "      <th>28</th>\n",
              "      <td>team_03Novice.fitness, running, gardeningtennis</td>\n",
              "    </tr>\n",
              "    <tr>\n",
              "      <th>29</th>\n",
              "      <td>team_03Competent.reading, traveling, bloggingb...</td>\n",
              "    </tr>\n",
              "    <tr>\n",
              "      <th>30</th>\n",
              "      <td>team_02Competent.reading, music, yogatennis</td>\n",
              "    </tr>\n",
              "    <tr>\n",
              "      <th>31</th>\n",
              "      <td>team_05Competent.traveling, photographytennis</td>\n",
              "    </tr>\n",
              "    <tr>\n",
              "      <th>32</th>\n",
              "      <td>team_03Advanced beginner.fitness, yoga, cookin...</td>\n",
              "    </tr>\n",
              "    <tr>\n",
              "      <th>33</th>\n",
              "      <td>team_03Competent.running, yoga, music, bloggin...</td>\n",
              "    </tr>\n",
              "    <tr>\n",
              "      <th>34</th>\n",
              "      <td>team_05Novice.volunteering, cooking, bakingtennis</td>\n",
              "    </tr>\n",
              "    <tr>\n",
              "      <th>35</th>\n",
              "      <td>team_01Advanced beginner.hiking, photography, ...</td>\n",
              "    </tr>\n",
              "    <tr>\n",
              "      <th>36</th>\n",
              "      <td>team_04Competent.reading, blogging, journalisi...</td>\n",
              "    </tr>\n",
              "    <tr>\n",
              "      <th>37</th>\n",
              "      <td>team_03Novice.fitness, running, gardening, mus...</td>\n",
              "    </tr>\n",
              "    <tr>\n",
              "      <th>38</th>\n",
              "      <td>team_03Competent.reading, traveling, bloggingt...</td>\n",
              "    </tr>\n",
              "    <tr>\n",
              "      <th>39</th>\n",
              "      <td>team_02Competent.reading, music, yogavolleyball</td>\n",
              "    </tr>\n",
              "    <tr>\n",
              "      <th>40</th>\n",
              "      <td>team_05Competent.traveling, photographyfootball</td>\n",
              "    </tr>\n",
              "    <tr>\n",
              "      <th>41</th>\n",
              "      <td>team_03Advanced beginner.fitness, running, coo...</td>\n",
              "    </tr>\n",
              "    <tr>\n",
              "      <th>42</th>\n",
              "      <td>team_02Expert.reading, gardening, yogatennis</td>\n",
              "    </tr>\n",
              "    <tr>\n",
              "      <th>43</th>\n",
              "      <td>team_01Novice.arts and crafts, yogavolleyball</td>\n",
              "    </tr>\n",
              "    <tr>\n",
              "      <th>44</th>\n",
              "      <td>team_03Advanced beginner.running, hiking, phot...</td>\n",
              "    </tr>\n",
              "    <tr>\n",
              "      <th>45</th>\n",
              "      <td>team_04Competent.arts and crafts, photographyt...</td>\n",
              "    </tr>\n",
              "    <tr>\n",
              "      <th>46</th>\n",
              "      <td>team_05Proficient.reading, journalising, music...</td>\n",
              "    </tr>\n",
              "    <tr>\n",
              "      <th>47</th>\n",
              "      <td>team_05Expert.reading, music, yogatennis</td>\n",
              "    </tr>\n",
              "    <tr>\n",
              "      <th>48</th>\n",
              "      <td>team_03Competent.fitness, running, gardeningsw...</td>\n",
              "    </tr>\n",
              "    <tr>\n",
              "      <th>49</th>\n",
              "      <td>team_03Advanced beginner.fitness, music, cooki...</td>\n",
              "    </tr>\n",
              "  </tbody>\n",
              "</table>\n",
              "</div><br><label><b>dtype:</b> object</label>"
            ]
          },
          "metadata": {},
          "execution_count": 4
        }
      ]
    },
    {
      "cell_type": "code",
      "execution_count": 5,
      "metadata": {
        "colab": {
          "base_uri": "https://localhost:8080/"
        },
        "id": "j7fcLvHuVyDA",
        "outputId": "79ca6433-82c1-41d5-bea2-8afb8c91aab0"
      },
      "outputs": [
        {
          "output_type": "execute_result",
          "data": {
            "text/plain": [
              "(50, 66)"
            ]
          },
          "metadata": {},
          "execution_count": 5
        }
      ],
      "source": [
        "tfidf = TfidfVectorizer(stop_words='english')\n",
        "tfidf_matrix = tfidf.fit_transform(employees['soup'])\n",
        "tfidf_matrix.shape"
      ]
    },
    {
      "cell_type": "code",
      "execution_count": 6,
      "metadata": {
        "id": "qo48s-7lVyDA"
      },
      "outputs": [],
      "source": [
        "cosine_sim = linear_kernel(tfidf_matrix, tfidf_matrix)"
      ]
    },
    {
      "cell_type": "code",
      "execution_count": 7,
      "metadata": {
        "id": "saWNNWvvVyDB"
      },
      "outputs": [],
      "source": [
        "indices = pd.Series(employees.index, index=employees['id']).drop_duplicates()"
      ]
    },
    {
      "cell_type": "code",
      "execution_count": 8,
      "metadata": {
        "id": "_zmWL3bbVyDB"
      },
      "outputs": [],
      "source": [
        "def get_recommendations(ID, cosine_sim=cosine_sim):\n",
        "    IDx = indices[ID]\n",
        "    sim_scores = list(enumerate(cosine_sim[IDx]))\n",
        "    sim_scores = sorted(sim_scores, key=lambda x: x[1], reverse=True)\n",
        "    sim_scores = sim_scores[1:4]\n",
        "    employees_indices = [i[0] for i in sim_scores]\n",
        "    return employees['id'].iloc[employees_indices]"
      ]
    },
    {
      "cell_type": "code",
      "execution_count": 9,
      "metadata": {
        "colab": {
          "base_uri": "https://localhost:8080/",
          "height": 198
        },
        "id": "pNpbJMhLVyDC",
        "outputId": "48991405-1862-4caa-ad1f-000d0668e636"
      },
      "outputs": [
        {
          "output_type": "execute_result",
          "data": {
            "text/plain": [
              "41    emp_042\n",
              "13    emp_014\n",
              "32    emp_033\n",
              "Name: id, dtype: object"
            ],
            "text/html": [
              "<div>\n",
              "<style scoped>\n",
              "    .dataframe tbody tr th:only-of-type {\n",
              "        vertical-align: middle;\n",
              "    }\n",
              "\n",
              "    .dataframe tbody tr th {\n",
              "        vertical-align: top;\n",
              "    }\n",
              "\n",
              "    .dataframe thead th {\n",
              "        text-align: right;\n",
              "    }\n",
              "</style>\n",
              "<table border=\"1\" class=\"dataframe\">\n",
              "  <thead>\n",
              "    <tr style=\"text-align: right;\">\n",
              "      <th></th>\n",
              "      <th>id</th>\n",
              "    </tr>\n",
              "  </thead>\n",
              "  <tbody>\n",
              "    <tr>\n",
              "      <th>41</th>\n",
              "      <td>emp_042</td>\n",
              "    </tr>\n",
              "    <tr>\n",
              "      <th>13</th>\n",
              "      <td>emp_014</td>\n",
              "    </tr>\n",
              "    <tr>\n",
              "      <th>32</th>\n",
              "      <td>emp_033</td>\n",
              "    </tr>\n",
              "  </tbody>\n",
              "</table>\n",
              "</div><br><label><b>dtype:</b> object</label>"
            ]
          },
          "metadata": {},
          "execution_count": 9
        }
      ],
      "source": [
        "get_recommendations('emp_050', cosine_sim)"
      ]
    },
    {
      "cell_type": "code",
      "execution_count": 9,
      "metadata": {
        "id": "WleaEACeVyDC"
      },
      "outputs": [],
      "source": []
    }
  ],
  "metadata": {
    "kernelspec": {
      "display_name": "Python 3",
      "language": "python",
      "name": "python3"
    },
    "language_info": {
      "codemirror_mode": {
        "name": "ipython",
        "version": 3
      },
      "file_extension": ".py",
      "mimetype": "text/x-python",
      "name": "python",
      "nbconvert_exporter": "python",
      "pygments_lexer": "ipython3",
      "version": "3.7.3"
    },
    "colab": {
      "provenance": []
    }
  },
  "nbformat": 4,
  "nbformat_minor": 0
}